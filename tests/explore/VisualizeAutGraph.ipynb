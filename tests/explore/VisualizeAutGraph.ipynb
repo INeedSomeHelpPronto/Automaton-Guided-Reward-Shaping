{
 "cells": [
  {
   "cell_type": "code",
   "execution_count": 10,
   "metadata": {
    "pycharm": {
     "name": "#%% Load json and display automata for specifiedagents\n"
    }
   },
   "outputs": [
    {
     "name": "stdout",
     "output_type": "stream",
     "text": [
      "LTL: F(a) & F(c) & F(b) & F(G(pit))\n",
      "APs: ['a', 'b', 'c', 'pit']\n",
      "\n"
     ]
    },
    {
     "data": {
      "text/plain": "<IPython.core.display.SVG object>",
      "image/svg+xml": "<svg height=\"404pt\" viewBox=\"0.00 0.00 513.00 404.00\" width=\"513pt\" xmlns=\"http://www.w3.org/2000/svg\" xmlns:xlink=\"http://www.w3.org/1999/xlink\">\n<g class=\"graph\" id=\"graph0\" transform=\"scale(1 1) rotate(0) translate(4 400)\">\n<polygon fill=\"#ffffff\" points=\"-4,4 -4,-400 509,-400 509,4 -4,4\" stroke=\"transparent\"/>\n<!-- 0 -->\n<g class=\"node\" id=\"node1\">\n<title>0</title>\n<ellipse cx=\"145\" cy=\"-378\" fill=\"#ffff00\" rx=\"18\" ry=\"18\" stroke=\"#000000\"/>\n<text fill=\"#000000\" font-family=\"Times,serif\" font-size=\"14.00\" text-anchor=\"middle\" x=\"145\" y=\"-374.3\">0</text>\n</g>\n<!-- 0&#45;&gt;0 -->\n<g class=\"edge\" id=\"edge1\">\n<title>0-&gt;0</title>\n<path d=\"M161.66,-385.38C171.62,-387.02 181,-384.56 181,-378 181,-373.8 177.15,-371.28 171.77,-370.44\" fill=\"none\" stroke=\"#000000\"/>\n<polygon fill=\"#000000\" points=\"171.5961,-366.9424 161.66,-370.62 171.7208,-373.9413 171.5961,-366.9424\" stroke=\"#000000\"/>\n<text fill=\"#000000\" font-family=\"Times,serif\" font-size=\"14.00\" text-anchor=\"middle\" x=\"226\" y=\"-374.3\"> {(F, X, X, X)} </text>\n</g>\n<!-- 1 -->\n<g class=\"node\" id=\"node2\">\n<title>1</title>\n<ellipse cx=\"207\" cy=\"-291\" fill=\"none\" rx=\"18\" ry=\"18\" stroke=\"#000000\"/>\n<text fill=\"#000000\" font-family=\"Times,serif\" font-size=\"14.00\" text-anchor=\"middle\" x=\"207\" y=\"-287.3\">1</text>\n</g>\n<!-- 0&#45;&gt;1 -->\n<g class=\"edge\" id=\"edge2\">\n<title>0-&gt;1</title>\n<path d=\"M155.52,-363.24C165.05,-349.87 179.25,-329.93 190.33,-314.39\" fill=\"none\" stroke=\"#000000\"/>\n<polygon fill=\"#000000\" points=\"193.4769,-316.005 196.43,-305.83 187.7763,-311.9426 193.4769,-316.005\" stroke=\"#000000\"/>\n<text fill=\"#000000\" font-family=\"Times,serif\" font-size=\"14.00\" text-anchor=\"middle\" x=\"223\" y=\"-330.8\"> {(T, X, F, X)} </text>\n</g>\n<!-- 2 -->\n<g class=\"node\" id=\"node3\">\n<title>2</title>\n<ellipse cx=\"191\" cy=\"-204\" fill=\"none\" rx=\"18\" ry=\"18\" stroke=\"#000000\"/>\n<text fill=\"#000000\" font-family=\"Times,serif\" font-size=\"14.00\" text-anchor=\"middle\" x=\"191\" y=\"-200.3\">2</text>\n</g>\n<!-- 0&#45;&gt;2 -->\n<g class=\"edge\" id=\"edge3\">\n<title>0-&gt;2</title>\n<path d=\"M131.22,-365.96C110.54,-346.36 75.666,-306.4 93,-273 107.93,-244.23 140.97,-224.93 164.55,-214.22\" fill=\"none\" stroke=\"#000000\"/>\n<polygon fill=\"#000000\" points=\"166.1937,-217.3232 174,-210.16 163.4305,-210.8917 166.1937,-217.3232\" stroke=\"#000000\"/>\n<text fill=\"#000000\" font-family=\"Times,serif\" font-size=\"14.00\" text-anchor=\"middle\" x=\"136.5\" y=\"-287.3\"> {(T, F, T, X)} </text>\n</g>\n<!-- 3 -->\n<g class=\"node\" id=\"node4\">\n<title>3</title>\n<ellipse cx=\"353\" cy=\"-117\" fill=\"none\" rx=\"18\" ry=\"18\" stroke=\"#000000\"/>\n<text fill=\"#000000\" font-family=\"Times,serif\" font-size=\"14.00\" text-anchor=\"middle\" x=\"353\" y=\"-113.3\">3</text>\n</g>\n<!-- 0&#45;&gt;3 -->\n<g class=\"edge\" id=\"edge4\">\n<title>0-&gt;3</title>\n<path d=\"M162.93,-375.61C218.09,-367.14 384.38,-332.78 431,-222 437.21,-207.25 437.57,-200.59 431,-186 420.15,-161.92 396.28,-142.85 377.79,-130.92\" fill=\"none\" stroke=\"#000000\"/>\n<polygon fill=\"#000000\" points=\"379.5698,-127.9056 369.22,-125.64 375.898,-133.8653 379.5698,-127.9056\" stroke=\"#000000\"/>\n<text fill=\"#000000\" font-family=\"Times,serif\" font-size=\"14.00\" text-anchor=\"middle\" x=\"462.5\" y=\"-243.8\"> {(T, T, T, F)} </text>\n</g>\n<!-- 4 -->\n<g class=\"node\" id=\"node5\">\n<title>4</title>\n<ellipse cx=\"217\" cy=\"-26\" fill=\"none\" rx=\"22\" ry=\"22\" stroke=\"#000000\"/>\n<ellipse cx=\"217\" cy=\"-26\" fill=\"none\" rx=\"26\" ry=\"26\" stroke=\"#000000\"/>\n<text fill=\"#000000\" font-family=\"Times,serif\" font-size=\"14.00\" text-anchor=\"middle\" x=\"217\" y=\"-22.3\">4</text>\n</g>\n<!-- 0&#45;&gt;4 -->\n<g class=\"edge\" id=\"edge5\">\n<title>0-&gt;4</title>\n<path d=\"M126.93,-375.72C88.059,-369.69 0,-349.57 0,-291 0,-291 0,-291 0,-117 0,-77.306 125.05,-45.437 185.29,-32.387\" fill=\"none\" stroke=\"#000000\"/>\n<polygon fill=\"#000000\" points=\"186.3437,-35.7415 195.4,-30.243 184.8914,-28.8938 186.3437,-35.7415\" stroke=\"#000000\"/>\n<text fill=\"#000000\" font-family=\"Times,serif\" font-size=\"14.00\" text-anchor=\"middle\" x=\"43\" y=\"-200.3\"> {(T, T, T, T)} </text>\n</g>\n<!-- 1&#45;&gt;1 -->\n<g class=\"edge\" id=\"edge6\">\n<title>1-&gt;1</title>\n<path d=\"M223.66,-298.38C233.62,-300.02 243,-297.56 243,-291 243,-286.8 239.15,-284.28 233.77,-283.44\" fill=\"none\" stroke=\"#000000\"/>\n<polygon fill=\"#000000\" points=\"233.5961,-279.9424 223.66,-283.62 233.7208,-286.9413 233.5961,-279.9424\" stroke=\"#000000\"/>\n<text fill=\"#000000\" font-family=\"Times,serif\" font-size=\"14.00\" text-anchor=\"middle\" x=\"288\" y=\"-287.3\"> {(X, X, F, X)} </text>\n</g>\n<!-- 1&#45;&gt;2 -->\n<g class=\"edge\" id=\"edge7\">\n<title>1-&gt;2</title>\n<path d=\"M203.68,-272.97C201.5,-261.11 198.6,-245.35 196.13,-231.89\" fill=\"none\" stroke=\"#000000\"/>\n<polygon fill=\"#000000\" points=\"199.5092,-230.9131 194.26,-221.71 192.6244,-232.1778 199.5092,-230.9131\" stroke=\"#000000\"/>\n<text fill=\"#000000\" font-family=\"Times,serif\" font-size=\"14.00\" text-anchor=\"middle\" x=\"243\" y=\"-243.8\"> {(X, F, T, X)} </text>\n</g>\n<!-- 1&#45;&gt;3 -->\n<g class=\"edge\" id=\"edge8\">\n<title>1-&gt;3</title>\n<path d=\"M224.64,-286.68C251.96,-278.93 303.66,-259.84 326,-222 339.98,-198.32 346.8,-167.47 350.07,-145.35\" fill=\"none\" stroke=\"#000000\"/>\n<polygon fill=\"#000000\" points=\"353.563,-145.6338 351.41,-135.26 346.6239,-144.7122 353.563,-145.6338\" stroke=\"#000000\"/>\n<text fill=\"#000000\" font-family=\"Times,serif\" font-size=\"14.00\" text-anchor=\"middle\" x=\"383.5\" y=\"-200.3\"> {(X, T, T, F)} </text>\n</g>\n<!-- 1&#45;&gt;4 -->\n<g class=\"edge\" id=\"edge9\">\n<title>1-&gt;4</title>\n<path d=\"M193.07,-279.13C170.64,-258.99 127.39,-215.64 111,-168 108.83,-161.7 108.73,-159.27 111,-153 127.05,-108.71 166.05,-69.037 192,-46.248\" fill=\"none\" stroke=\"#000000\"/>\n<polygon fill=\"#000000\" points=\"194.2871,-48.8974 199.6,-39.731 189.7304,-43.5836 194.2871,-48.8974\" stroke=\"#000000\"/>\n<text fill=\"#000000\" font-family=\"Times,serif\" font-size=\"14.00\" text-anchor=\"middle\" x=\"155\" y=\"-156.8\"> {(X, T, T, T)} </text>\n</g>\n<!-- 2&#45;&gt;2 -->\n<g class=\"edge\" id=\"edge10\">\n<title>2-&gt;2</title>\n<path d=\"M207.66,-211.38C217.62,-213.02 227,-210.56 227,-204 227,-199.8 223.15,-197.28 217.77,-196.44\" fill=\"none\" stroke=\"#000000\"/>\n<polygon fill=\"#000000\" points=\"217.5961,-192.9424 207.66,-196.62 217.7208,-199.9413 217.5961,-192.9424\" stroke=\"#000000\"/>\n<text fill=\"#000000\" font-family=\"Times,serif\" font-size=\"14.00\" text-anchor=\"middle\" x=\"272\" y=\"-200.3\"> {(X, F, X, X)} </text>\n</g>\n<!-- 2&#45;&gt;3 -->\n<g class=\"edge\" id=\"edge11\">\n<title>2-&gt;3</title>\n<path d=\"M203.63,-190.52C215.03,-179.08 232.77,-162.97 251,-153 275.06,-139.85 284.21,-144.3 310,-135 315.52,-133.01 321.36,-130.7 326.9,-128.42\" fill=\"none\" stroke=\"#000000\"/>\n<polygon fill=\"#000000\" points=\"328.5619,-131.5174 336.41,-124.4 325.8364,-125.0698 328.5619,-131.5174\" stroke=\"#000000\"/>\n<text fill=\"#000000\" font-family=\"Times,serif\" font-size=\"14.00\" text-anchor=\"middle\" x=\"295\" y=\"-156.8\"> {(X, T, X, F)} </text>\n</g>\n<!-- 2&#45;&gt;4 -->\n<g class=\"edge\" id=\"edge12\">\n<title>2-&gt;4</title>\n<path d=\"M197.53,-187C199.58,-181.07 201.65,-174.31 203,-168 210.88,-131.05 214.34,-87.725 215.85,-58.737\" fill=\"none\" stroke=\"#000000\"/>\n<polygon fill=\"#000000\" points=\"219.3637,-58.5272 216.34,-48.373 212.3716,-58.1965 219.3637,-58.5272\" stroke=\"#000000\"/>\n<text fill=\"#000000\" font-family=\"Times,serif\" font-size=\"14.00\" text-anchor=\"middle\" x=\"256.5\" y=\"-113.3\"> {(X, T, X, T)} </text>\n</g>\n<!-- 3&#45;&gt;3 -->\n<g class=\"edge\" id=\"edge13\">\n<title>3-&gt;3</title>\n<path d=\"M369.66,-124.38C379.62,-126.02 389,-123.56 389,-117 389,-112.8 385.15,-110.28 379.77,-109.44\" fill=\"none\" stroke=\"#000000\"/>\n<polygon fill=\"#000000\" points=\"379.5961,-105.9424 369.66,-109.62 379.7208,-112.9413 379.5961,-105.9424\" stroke=\"#000000\"/>\n<text fill=\"#000000\" font-family=\"Times,serif\" font-size=\"14.00\" text-anchor=\"middle\" x=\"434\" y=\"-113.3\"> {(X, X, X, F)} </text>\n</g>\n<!-- 3&#45;&gt;4 -->\n<g class=\"edge\" id=\"edge14\">\n<title>3-&gt;4</title>\n<path d=\"M353.01,-98.908C352.08,-88.11 349.14,-74.827 341,-66 328.41,-52.345 280.94,-39.749 248.53,-32.472\" fill=\"none\" stroke=\"#000000\"/>\n<polygon fill=\"#000000\" points=\"249.1168,-29.0177 238.6,-30.301 247.6217,-35.8562 249.1168,-29.0177\" stroke=\"#000000\"/>\n<text fill=\"#000000\" font-family=\"Times,serif\" font-size=\"14.00\" text-anchor=\"middle\" x=\"394.5\" y=\"-69.8\"> {(X, X, X, T)} </text>\n</g>\n<!-- 4&#45;&gt;3 -->\n<g class=\"edge\" id=\"edge15\">\n<title>4-&gt;3</title>\n<path d=\"M223.85,-46.976C228.63,-58.551 236.13,-72.301 247,-81 269.74,-99.194 282.52,-89.361 310,-99 315.54,-100.942 321.39,-103.228 326.93,-105.51\" fill=\"none\" stroke=\"#000000\"/>\n<polygon fill=\"#000000\" points=\"325.8566,-108.8562 336.43,-109.53 328.5846,-102.4096 325.8566,-108.8562\" stroke=\"#000000\"/>\n<text fill=\"#000000\" font-family=\"Times,serif\" font-size=\"14.00\" text-anchor=\"middle\" x=\"292\" y=\"-69.8\"> {(X, X, X, F)} </text>\n</g>\n<!-- 4&#45;&gt;4 -->\n<g class=\"edge\" id=\"edge16\">\n<title>4-&gt;4</title>\n<path d=\"M237.58,-34.37C247.84,-35.528 257,-32.738 257,-26 257,-21.683 253.24,-18.987 247.84,-17.911\" fill=\"none\" stroke=\"#000000\"/>\n<polygon fill=\"#000000\" points=\"247.6721,-14.4052 237.58,-17.63 247.4804,-21.4026 247.6721,-14.4052\" stroke=\"#000000\"/>\n<text fill=\"#000000\" font-family=\"Times,serif\" font-size=\"14.00\" text-anchor=\"middle\" x=\"302.5\" y=\"-22.3\"> {(X, X, X, T)} </text>\n</g>\n</g>\n</svg>"
     },
     "metadata": {},
     "output_type": "display_data"
    }
   ],
   "source": [
    "# To use this, you need to install the graphviz development package and pygrphviz. Commands are as follows:\n",
    "#   sudo apt-get install graphviz-dev\n",
    "#   pip install pygraphviz\n",
    "\n",
    "# To export the notebook (nbconvert probably needs to be installed first - I am not sure the details):\n",
    "#   jupyter nbconvert VisualizeAutGraph.ipynb --to pdf\n",
    "#   jupyter nbconvert VisualizeAutGraph.ipynb --to html\n",
    "\n",
    "\n",
    "from autograph.lib.automata import AutomatonGraph\n",
    "from IPython.display import display,SVG\n",
    "import json5 as json\n",
    "\n",
    "def displayaut(ltlf,apnames):\n",
    "    \n",
    "    graph,initial_state = AutomatonGraph.from_ltlf(ltlf,apnames)\n",
    "\n",
    "    # Visualize the automaton - set current state to initial state (this highlights the initial state yellow)\n",
    "    # Acceptance state is indicated with a double circle\n",
    "    # Inside a for loop or a function, we need to use the display command (see https://stackoverflow.com/questions/30334385/display-svg-in-ipython-notebook-from-a-function)\n",
    "    #display(SVG(graph.to_image(initial_state)))\n",
    "    display(SVG(graph.to_image(initial_state)))\n",
    "\n",
    "\n",
    "\n",
    "# PARAMETERS\n",
    "\n",
    "# Config file name\n",
    "config_file = 'autograph/play/config/envs_single/abcpit.json'\n",
    "#config_file = 'autograph/play/config/LiorBrett/fourplayer.json'\n",
    "\n",
    "# List of agents to display (use [] to display all agents)\n",
    "agents = []\n",
    "#agents = [0]\n",
    "\n",
    "\n",
    "\n",
    "with open(config_file) as f:\n",
    "    config = json.load(f)\n",
    "\n",
    "aut: dict = config[\"automaton\"]\n",
    "\n",
    "\n",
    "ltlf = aut['spec']\n",
    "apnames = [p['name'] for p in aut['params']]\n",
    "\n",
    "print('LTL: {0}'.format(ltlf))\n",
    "print('APs: {0}\\n'.format(apnames))\n",
    "\n",
    "displayaut(ltlf,apnames)\n",
    "    \n",
    "        "
   ]
  },
  {
   "cell_type": "code",
   "execution_count": 11,
   "metadata": {
    "pycharm": {
     "name": "#%% A quick attempt to see if the DFA could be visualized directly - this didn't work\n"
    }
   },
   "outputs": [],
   "source": [
    "# from flloat.parser.ltlf import LTLfParser\n",
    "# \n",
    "# ltl_parser = LTLfParser()\n",
    "# \n",
    "# # Parse to DFA\n",
    "# parsed_formula = ltl_parser('GA')\n",
    "# DFA = parsed_formula.to_automaton(determinize=True)\n",
    "# SVG(DFA)\n"
   ]
  }
 ],
 "metadata": {
  "kernelspec": {
   "display_name": "PyCharm (nfsp)",
   "language": "python",
   "name": "pycharm-18eaeb1"
  },
  "language_info": {
   "codemirror_mode": {
    "name": "ipython",
    "version": 3
   },
   "file_extension": ".py",
   "mimetype": "text/x-python",
   "name": "python",
   "nbconvert_exporter": "python",
   "pygments_lexer": "ipython3",
   "version": "3.7.7"
  }
 },
 "nbformat": 4,
 "nbformat_minor": 1
}